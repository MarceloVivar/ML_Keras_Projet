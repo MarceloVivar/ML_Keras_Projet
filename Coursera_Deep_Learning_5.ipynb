{
    "cells": [
        {
            "cell_type": "markdown",
            "metadata": {},
            "source": "## Build a Regression Model in Keras"
        },
        {
            "cell_type": "markdown",
            "metadata": {
                "collapsed": true
            },
            "source": "A. Build a baseline model (5 marks)\n\nUse the Keras library to build a neural network with the following:\n\n- One hidden layer of 10 nodes, and a ReLU activation function\n\n- Use the adam optimizer and the mean squared error as the loss function.\n\n1. Randomly split the data into a training and test sets by holding 30% of the data for testing. You can use the train_test_split helper function from Scikit-learn.\n\n2. Train the model on the training data using 50 epochs.\n\n3. Evaluate the model on the test data and compute the mean squared error between the predicted concrete strength and the actual concrete strength. You can use the mean_squared_error function from Scikit-learn.\n\n4. Repeat steps 1 - 3, 50 times, i.e., create a list of 50 mean squared errors.\n\n5. Report the mean and the standard deviation of the mean squared errors."
        },
        {
            "cell_type": "code",
            "execution_count": 1,
            "metadata": {},
            "outputs": [
                {
                    "name": "stderr",
                    "output_type": "stream",
                    "text": "Using TensorFlow backend.\n"
                }
            ],
            "source": "import pandas as pd\nimport numpy as np\nimport keras\nfrom keras.models import Sequential\nfrom keras.layers import Dense"
        },
        {
            "cell_type": "code",
            "execution_count": 2,
            "metadata": {},
            "outputs": [
                {
                    "data": {
                        "text/html": "<div>\n<style scoped>\n    .dataframe tbody tr th:only-of-type {\n        vertical-align: middle;\n    }\n\n    .dataframe tbody tr th {\n        vertical-align: top;\n    }\n\n    .dataframe thead th {\n        text-align: right;\n    }\n</style>\n<table border=\"1\" class=\"dataframe\">\n  <thead>\n    <tr style=\"text-align: right;\">\n      <th></th>\n      <th>Cement</th>\n      <th>Blast Furnace Slag</th>\n      <th>Fly Ash</th>\n      <th>Water</th>\n      <th>Superplasticizer</th>\n      <th>Coarse Aggregate</th>\n      <th>Fine Aggregate</th>\n      <th>Age</th>\n      <th>Strength</th>\n    </tr>\n  </thead>\n  <tbody>\n    <tr>\n      <th>0</th>\n      <td>540.0</td>\n      <td>0.0</td>\n      <td>0.0</td>\n      <td>162.0</td>\n      <td>2.5</td>\n      <td>1040.0</td>\n      <td>676.0</td>\n      <td>28</td>\n      <td>79.99</td>\n    </tr>\n    <tr>\n      <th>1</th>\n      <td>540.0</td>\n      <td>0.0</td>\n      <td>0.0</td>\n      <td>162.0</td>\n      <td>2.5</td>\n      <td>1055.0</td>\n      <td>676.0</td>\n      <td>28</td>\n      <td>61.89</td>\n    </tr>\n    <tr>\n      <th>2</th>\n      <td>332.5</td>\n      <td>142.5</td>\n      <td>0.0</td>\n      <td>228.0</td>\n      <td>0.0</td>\n      <td>932.0</td>\n      <td>594.0</td>\n      <td>270</td>\n      <td>40.27</td>\n    </tr>\n    <tr>\n      <th>3</th>\n      <td>332.5</td>\n      <td>142.5</td>\n      <td>0.0</td>\n      <td>228.0</td>\n      <td>0.0</td>\n      <td>932.0</td>\n      <td>594.0</td>\n      <td>365</td>\n      <td>41.05</td>\n    </tr>\n    <tr>\n      <th>4</th>\n      <td>198.6</td>\n      <td>132.4</td>\n      <td>0.0</td>\n      <td>192.0</td>\n      <td>0.0</td>\n      <td>978.4</td>\n      <td>825.5</td>\n      <td>360</td>\n      <td>44.30</td>\n    </tr>\n  </tbody>\n</table>\n</div>",
                        "text/plain": "   Cement  Blast Furnace Slag  Fly Ash  Water  Superplasticizer  \\\n0   540.0                 0.0      0.0  162.0               2.5   \n1   540.0                 0.0      0.0  162.0               2.5   \n2   332.5               142.5      0.0  228.0               0.0   \n3   332.5               142.5      0.0  228.0               0.0   \n4   198.6               132.4      0.0  192.0               0.0   \n\n   Coarse Aggregate  Fine Aggregate  Age  Strength  \n0            1040.0           676.0   28     79.99  \n1            1055.0           676.0   28     61.89  \n2             932.0           594.0  270     40.27  \n3             932.0           594.0  365     41.05  \n4             978.4           825.5  360     44.30  "
                    },
                    "execution_count": 2,
                    "metadata": {},
                    "output_type": "execute_result"
                }
            ],
            "source": "concrete_data = pd.read_csv('https://cocl.us/concrete_data')\nconcrete_data.head()"
        },
        {
            "cell_type": "code",
            "execution_count": 3,
            "metadata": {},
            "outputs": [],
            "source": "concrete_data_columns = concrete_data.columns\n\npredictors = concrete_data[concrete_data_columns[concrete_data_columns != 'Strength']] # all columns except Strength\ntarget = concrete_data['Strength'] # Strength column\n"
        },
        {
            "cell_type": "code",
            "execution_count": 4,
            "metadata": {},
            "outputs": [],
            "source": "n_cols = predictors.shape[1] # number of predictors"
        },
        {
            "cell_type": "code",
            "execution_count": 5,
            "metadata": {},
            "outputs": [],
            "source": "# define regression model\ndef regression_model():\n    # create model\n    model = Sequential()\n    model.add(Dense(10, activation='relu', input_shape=(n_cols,)))\n    model.add(Dense(1))\n    \n    # compile model\n    model.compile(optimizer='adam', loss='mean_squared_error')\n    return model"
        },
        {
            "cell_type": "code",
            "execution_count": 6,
            "metadata": {},
            "outputs": [
                {
                    "name": "stdout",
                    "output_type": "stream",
                    "text": "WARNING:tensorflow:From /opt/conda/envs/Python36/lib/python3.6/site-packages/tensorflow/python/framework/op_def_library.py:263: colocate_with (from tensorflow.python.framework.ops) is deprecated and will be removed in a future version.\nInstructions for updating:\nColocations handled automatically by placer.\n"
                }
            ],
            "source": "# build the model\nmodel = regression_model()"
        },
        {
            "cell_type": "code",
            "execution_count": 7,
            "metadata": {},
            "outputs": [
                {
                    "name": "stdout",
                    "output_type": "stream",
                    "text": "WARNING:tensorflow:From /opt/conda/envs/Python36/lib/python3.6/site-packages/tensorflow/python/ops/math_ops.py:3066: to_int32 (from tensorflow.python.ops.math_ops) is deprecated and will be removed in a future version.\nInstructions for updating:\nUse tf.cast instead.\nTrain on 721 samples, validate on 309 samples\nEpoch 1/50\n - 1s - loss: 8116.1945 - val_loss: 1331.4697\nEpoch 2/50\n - 0s - loss: 1180.1746 - val_loss: 1122.3880\nEpoch 3/50\n - 0s - loss: 880.0846 - val_loss: 1044.0893\nEpoch 4/50\n - 0s - loss: 704.6353 - val_loss: 1025.3368\nEpoch 5/50\n - 0s - loss: 618.2367 - val_loss: 1029.3556\nEpoch 6/50\n - 0s - loss: 555.7834 - val_loss: 1014.2989\nEpoch 7/50\n - 0s - loss: 514.9053 - val_loss: 985.3188\nEpoch 8/50\n - 1s - loss: 483.5298 - val_loss: 943.4723\nEpoch 9/50\n - 0s - loss: 456.3448 - val_loss: 898.9151\nEpoch 10/50\n - 0s - loss: 435.0102 - val_loss: 852.2643\nEpoch 11/50\n - 0s - loss: 411.3667 - val_loss: 809.5996\nEpoch 12/50\n - 0s - loss: 391.8816 - val_loss: 762.1050\nEpoch 13/50\n - 0s - loss: 367.7425 - val_loss: 722.4221\nEpoch 14/50\n - 0s - loss: 353.3408 - val_loss: 681.4385\nEpoch 15/50\n - 0s - loss: 334.2795 - val_loss: 643.3894\nEpoch 16/50\n - 0s - loss: 319.5816 - val_loss: 604.6509\nEpoch 17/50\n - 0s - loss: 302.9083 - val_loss: 570.7388\nEpoch 18/50\n - 0s - loss: 289.7426 - val_loss: 538.5661\nEpoch 19/50\n - 0s - loss: 277.2563 - val_loss: 509.3271\nEpoch 20/50\n - 0s - loss: 270.6848 - val_loss: 480.0260\nEpoch 21/50\n - 0s - loss: 258.3303 - val_loss: 452.8770\nEpoch 22/50\n - 0s - loss: 247.2778 - val_loss: 426.1858\nEpoch 23/50\n - 0s - loss: 241.4515 - val_loss: 403.9120\nEpoch 24/50\n - 0s - loss: 229.4043 - val_loss: 378.4410\nEpoch 25/50\n - 0s - loss: 222.2102 - val_loss: 361.2972\nEpoch 26/50\n - 0s - loss: 214.8286 - val_loss: 340.3524\nEpoch 27/50\n - 0s - loss: 206.9962 - val_loss: 319.9344\nEpoch 28/50\n - 0s - loss: 200.0316 - val_loss: 302.7007\nEpoch 29/50\n - 0s - loss: 193.5996 - val_loss: 286.5728\nEpoch 30/50\n - 0s - loss: 188.3288 - val_loss: 272.2122\nEpoch 31/50\n - 0s - loss: 182.6367 - val_loss: 258.1453\nEpoch 32/50\n - 0s - loss: 177.3085 - val_loss: 244.9741\nEpoch 33/50\n - 0s - loss: 172.6998 - val_loss: 234.2251\nEpoch 34/50\n - 0s - loss: 168.1711 - val_loss: 220.7054\nEpoch 35/50\n - 0s - loss: 163.9617 - val_loss: 210.9643\nEpoch 36/50\n - 0s - loss: 159.1360 - val_loss: 202.0188\nEpoch 37/50\n - 0s - loss: 155.7457 - val_loss: 191.7968\nEpoch 38/50\n - 0s - loss: 151.7015 - val_loss: 184.3216\nEpoch 39/50\n - 0s - loss: 148.6779 - val_loss: 177.0647\nEpoch 40/50\n - 0s - loss: 145.8870 - val_loss: 169.8380\nEpoch 41/50\n - 0s - loss: 142.5905 - val_loss: 163.0500\nEpoch 42/50\n - 0s - loss: 140.5467 - val_loss: 158.7470\nEpoch 43/50\n - 0s - loss: 139.2553 - val_loss: 151.5018\nEpoch 44/50\n - 0s - loss: 137.5390 - val_loss: 146.2523\nEpoch 45/50\n - 0s - loss: 137.2136 - val_loss: 143.1119\nEpoch 46/50\n - 0s - loss: 133.5265 - val_loss: 136.4487\nEpoch 47/50\n - 1s - loss: 132.2574 - val_loss: 133.2437\nEpoch 48/50\n - 0s - loss: 128.9764 - val_loss: 129.5066\nEpoch 49/50\n - 0s - loss: 127.5549 - val_loss: 126.5399\nEpoch 50/50\n - 0s - loss: 125.7634 - val_loss: 123.5507\n"
                },
                {
                    "data": {
                        "text/plain": "<keras.callbacks.History at 0x7fb76665ecc0>"
                    },
                    "execution_count": 7,
                    "metadata": {},
                    "output_type": "execute_result"
                }
            ],
            "source": "# fit the model\nmodel.fit(predictors, target, validation_split=0.3, epochs=50, verbose=2)"
        },
        {
            "cell_type": "markdown",
            "metadata": {},
            "source": "B. Normalize the data (5 marks)\n\nRepeat Part A but use a normalized version of the data. Recall that one way to normalize the data is by subtracting the mean from the individual predictors and dividing by the standard deviation."
        },
        {
            "cell_type": "markdown",
            "metadata": {},
            "source": "### How does the mean of the mean squared errors compare to that from Step A?"
        },
        {
            "cell_type": "markdown",
            "metadata": {},
            "source": "It's higher"
        },
        {
            "cell_type": "code",
            "execution_count": 8,
            "metadata": {},
            "outputs": [
                {
                    "data": {
                        "text/html": "<div>\n<style scoped>\n    .dataframe tbody tr th:only-of-type {\n        vertical-align: middle;\n    }\n\n    .dataframe tbody tr th {\n        vertical-align: top;\n    }\n\n    .dataframe thead th {\n        text-align: right;\n    }\n</style>\n<table border=\"1\" class=\"dataframe\">\n  <thead>\n    <tr style=\"text-align: right;\">\n      <th></th>\n      <th>Cement</th>\n      <th>Blast Furnace Slag</th>\n      <th>Fly Ash</th>\n      <th>Water</th>\n      <th>Superplasticizer</th>\n      <th>Coarse Aggregate</th>\n      <th>Fine Aggregate</th>\n      <th>Age</th>\n    </tr>\n  </thead>\n  <tbody>\n    <tr>\n      <th>0</th>\n      <td>2.476712</td>\n      <td>-0.856472</td>\n      <td>-0.846733</td>\n      <td>-0.916319</td>\n      <td>-0.620147</td>\n      <td>0.862735</td>\n      <td>-1.217079</td>\n      <td>-0.279597</td>\n    </tr>\n    <tr>\n      <th>1</th>\n      <td>2.476712</td>\n      <td>-0.856472</td>\n      <td>-0.846733</td>\n      <td>-0.916319</td>\n      <td>-0.620147</td>\n      <td>1.055651</td>\n      <td>-1.217079</td>\n      <td>-0.279597</td>\n    </tr>\n    <tr>\n      <th>2</th>\n      <td>0.491187</td>\n      <td>0.795140</td>\n      <td>-0.846733</td>\n      <td>2.174405</td>\n      <td>-1.038638</td>\n      <td>-0.526262</td>\n      <td>-2.239829</td>\n      <td>3.551340</td>\n    </tr>\n    <tr>\n      <th>3</th>\n      <td>0.491187</td>\n      <td>0.795140</td>\n      <td>-0.846733</td>\n      <td>2.174405</td>\n      <td>-1.038638</td>\n      <td>-0.526262</td>\n      <td>-2.239829</td>\n      <td>5.055221</td>\n    </tr>\n    <tr>\n      <th>4</th>\n      <td>-0.790075</td>\n      <td>0.678079</td>\n      <td>-0.846733</td>\n      <td>0.488555</td>\n      <td>-1.038638</td>\n      <td>0.070492</td>\n      <td>0.647569</td>\n      <td>4.976069</td>\n    </tr>\n  </tbody>\n</table>\n</div>",
                        "text/plain": "     Cement  Blast Furnace Slag   Fly Ash     Water  Superplasticizer  \\\n0  2.476712           -0.856472 -0.846733 -0.916319         -0.620147   \n1  2.476712           -0.856472 -0.846733 -0.916319         -0.620147   \n2  0.491187            0.795140 -0.846733  2.174405         -1.038638   \n3  0.491187            0.795140 -0.846733  2.174405         -1.038638   \n4 -0.790075            0.678079 -0.846733  0.488555         -1.038638   \n\n   Coarse Aggregate  Fine Aggregate       Age  \n0          0.862735       -1.217079 -0.279597  \n1          1.055651       -1.217079 -0.279597  \n2         -0.526262       -2.239829  3.551340  \n3         -0.526262       -2.239829  5.055221  \n4          0.070492        0.647569  4.976069  "
                    },
                    "execution_count": 8,
                    "metadata": {},
                    "output_type": "execute_result"
                }
            ],
            "source": "predictors_norm = (predictors - predictors.mean()) / predictors.std()\npredictors_norm.head()"
        },
        {
            "cell_type": "code",
            "execution_count": 9,
            "metadata": {},
            "outputs": [],
            "source": "n_cols = predictors_norm.shape[1] # number of predictors"
        },
        {
            "cell_type": "code",
            "execution_count": 10,
            "metadata": {},
            "outputs": [],
            "source": "# define regression model\ndef regression_model():\n    # create model\n    model = Sequential()\n    model.add(Dense(10, activation='relu', input_shape=(n_cols,)))\n    model.add(Dense(1))\n    \n    # compile model\n    model.compile(optimizer='adam', loss='mean_squared_error')\n    return model"
        },
        {
            "cell_type": "code",
            "execution_count": 11,
            "metadata": {},
            "outputs": [],
            "source": "# build the model\nmodel = regression_model()"
        },
        {
            "cell_type": "code",
            "execution_count": 12,
            "metadata": {},
            "outputs": [
                {
                    "name": "stdout",
                    "output_type": "stream",
                    "text": "Train on 721 samples, validate on 309 samples\nEpoch 1/50\n - 1s - loss: 1670.3226 - val_loss: 1192.0467\nEpoch 2/50\n - 0s - loss: 1651.8594 - val_loss: 1180.2937\nEpoch 3/50\n - 0s - loss: 1632.7083 - val_loss: 1167.8401\nEpoch 4/50\n - 0s - loss: 1612.9688 - val_loss: 1154.9617\nEpoch 5/50\n - 0s - loss: 1591.9446 - val_loss: 1141.4478\nEpoch 6/50\n - 0s - loss: 1569.6820 - val_loss: 1127.1006\nEpoch 7/50\n - 0s - loss: 1546.0242 - val_loss: 1111.8828\nEpoch 8/50\n - 0s - loss: 1520.2511 - val_loss: 1095.9470\nEpoch 9/50\n - 0s - loss: 1493.0426 - val_loss: 1079.0188\nEpoch 10/50\n - 0s - loss: 1463.9715 - val_loss: 1061.2720\nEpoch 11/50\n - 0s - loss: 1432.9560 - val_loss: 1042.7496\nEpoch 12/50\n - 0s - loss: 1400.0928 - val_loss: 1022.8635\nEpoch 13/50\n - 0s - loss: 1365.4331 - val_loss: 1002.8420\nEpoch 14/50\n - 0s - loss: 1329.7402 - val_loss: 982.2253\nEpoch 15/50\n - 0s - loss: 1291.8561 - val_loss: 960.3786\nEpoch 16/50\n - 0s - loss: 1253.3371 - val_loss: 938.2041\nEpoch 17/50\n - 0s - loss: 1213.1642 - val_loss: 915.1179\nEpoch 18/50\n - 0s - loss: 1172.2147 - val_loss: 891.8299\nEpoch 19/50\n - 0s - loss: 1130.4449 - val_loss: 868.1797\nEpoch 20/50\n - 0s - loss: 1088.5227 - val_loss: 844.3831\nEpoch 21/50\n - 0s - loss: 1045.9060 - val_loss: 820.1239\nEpoch 22/50\n - 0s - loss: 1003.7353 - val_loss: 795.1429\nEpoch 23/50\n - 0s - loss: 961.1984 - val_loss: 770.5364\nEpoch 24/50\n - 0s - loss: 919.1924 - val_loss: 746.2002\nEpoch 25/50\n - 0s - loss: 877.7914 - val_loss: 721.6166\nEpoch 26/50\n - 0s - loss: 836.8486 - val_loss: 696.5358\nEpoch 27/50\n - 0s - loss: 796.5121 - val_loss: 671.9094\nEpoch 28/50\n - 0s - loss: 757.5123 - val_loss: 647.4256\nEpoch 29/50\n - 0s - loss: 719.7148 - val_loss: 623.4237\nEpoch 30/50\n - 1s - loss: 682.6656 - val_loss: 599.8561\nEpoch 31/50\n - 0s - loss: 648.1209 - val_loss: 575.9326\nEpoch 32/50\n - 0s - loss: 614.2232 - val_loss: 553.1873\nEpoch 33/50\n - 0s - loss: 581.9706 - val_loss: 530.9314\nEpoch 34/50\n - 0s - loss: 551.5458 - val_loss: 509.6416\nEpoch 35/50\n - 0s - loss: 522.9321 - val_loss: 488.7529\nEpoch 36/50\n - 0s - loss: 496.2294 - val_loss: 468.8073\nEpoch 37/50\n - 0s - loss: 471.0108 - val_loss: 450.0434\nEpoch 38/50\n - 0s - loss: 447.6868 - val_loss: 432.0741\nEpoch 39/50\n - 0s - loss: 426.3469 - val_loss: 414.6229\nEpoch 40/50\n - 0s - loss: 406.2203 - val_loss: 397.7425\nEpoch 41/50\n - 0s - loss: 388.0210 - val_loss: 382.2766\nEpoch 42/50\n - 0s - loss: 370.9088 - val_loss: 367.3573\nEpoch 43/50\n - 0s - loss: 355.7303 - val_loss: 353.5093\nEpoch 44/50\n - 0s - loss: 341.6108 - val_loss: 340.2741\nEpoch 45/50\n - 0s - loss: 329.0000 - val_loss: 328.8761\nEpoch 46/50\n - 0s - loss: 317.4809 - val_loss: 317.7432\nEpoch 47/50\n - 0s - loss: 306.7375 - val_loss: 307.4070\nEpoch 48/50\n - 0s - loss: 297.4765 - val_loss: 297.2102\nEpoch 49/50\n - 0s - loss: 288.6532 - val_loss: 288.0912\nEpoch 50/50\n - 0s - loss: 280.9015 - val_loss: 279.5420\n"
                },
                {
                    "data": {
                        "text/plain": "<keras.callbacks.History at 0x7fb71008cc88>"
                    },
                    "execution_count": 12,
                    "metadata": {},
                    "output_type": "execute_result"
                }
            ],
            "source": "# fit the model\nmodel.fit(predictors_norm, target, validation_split=0.3, epochs=50, verbose=2)"
        },
        {
            "cell_type": "markdown",
            "metadata": {},
            "source": "D. Increase the number of hidden layers (5 marks)\n\nRepeat part B but use a neural network with the following instead:\n\n- Three hidden layers, each of 10 nodes and ReLU activation function.\n\n### How does the mean of the mean squared errors compare to that from Step B?"
        },
        {
            "cell_type": "markdown",
            "metadata": {},
            "source": "It'smaller"
        },
        {
            "cell_type": "code",
            "execution_count": 13,
            "metadata": {},
            "outputs": [],
            "source": "# define regression model\ndef regression_model():\n    # create model\n    model = Sequential()\n    model.add(Dense(10, activation='relu', input_shape=(n_cols,)))\n    model.add(Dense(10, activation='relu'))\n    model.add(Dense(10, activation='relu'))\n    model.add(Dense(1))\n    \n    # compile model\n    model.compile(optimizer='adam', loss='mean_squared_error')\n    return model"
        },
        {
            "cell_type": "code",
            "execution_count": 14,
            "metadata": {},
            "outputs": [],
            "source": "# build the model\nmodel = regression_model()"
        },
        {
            "cell_type": "code",
            "execution_count": 15,
            "metadata": {},
            "outputs": [
                {
                    "name": "stdout",
                    "output_type": "stream",
                    "text": "Train on 721 samples, validate on 309 samples\nEpoch 1/50\n - 2s - loss: 1719.7826 - val_loss: 1243.7953\nEpoch 2/50\n - 1s - loss: 1707.0568 - val_loss: 1234.8653\nEpoch 3/50\n - 1s - loss: 1700.0734 - val_loss: 1229.3391\nEpoch 4/50\n - 1s - loss: 1694.8520 - val_loss: 1222.8525\nEpoch 5/50\n - 1s - loss: 1687.7476 - val_loss: 1211.8628\nEpoch 6/50\n - 1s - loss: 1672.7782 - val_loss: 1188.6516\nEpoch 7/50\n - 1s - loss: 1637.9293 - val_loss: 1147.0392\nEpoch 8/50\n - 1s - loss: 1571.7620 - val_loss: 1088.5636\nEpoch 9/50\n - 1s - loss: 1479.7020 - val_loss: 1015.5367\nEpoch 10/50\n - 1s - loss: 1352.4552 - val_loss: 921.4113\nEpoch 11/50\n - 1s - loss: 1182.8887 - val_loss: 802.5283\nEpoch 12/50\n - 1s - loss: 960.9918 - val_loss: 664.4310\nEpoch 13/50\n - 1s - loss: 716.0375 - val_loss: 524.3876\nEpoch 14/50\n - 1s - loss: 492.4057 - val_loss: 409.1550\nEpoch 15/50\n - 1s - loss: 343.6518 - val_loss: 327.7438\nEpoch 16/50\n - 1s - loss: 266.7434 - val_loss: 278.5412\nEpoch 17/50\n - 1s - loss: 235.3004 - val_loss: 246.7582\nEpoch 18/50\n - 1s - loss: 218.9715 - val_loss: 228.7297\nEpoch 19/50\n - 1s - loss: 209.7865 - val_loss: 215.1168\nEpoch 20/50\n - 1s - loss: 203.1811 - val_loss: 208.5994\nEpoch 21/50\n - 1s - loss: 197.7095 - val_loss: 204.0199\nEpoch 22/50\n - 1s - loss: 192.9929 - val_loss: 198.0439\nEpoch 23/50\n - 1s - loss: 188.6007 - val_loss: 192.9508\nEpoch 24/50\n - 1s - loss: 183.6049 - val_loss: 189.5589\nEpoch 25/50\n - 1s - loss: 180.2287 - val_loss: 185.8339\nEpoch 26/50\n - 1s - loss: 176.4805 - val_loss: 183.2939\nEpoch 27/50\n - 1s - loss: 172.5981 - val_loss: 180.2878\nEpoch 28/50\n - 1s - loss: 169.4161 - val_loss: 176.9114\nEpoch 29/50\n - 1s - loss: 166.8244 - val_loss: 174.8841\nEpoch 30/50\n - 1s - loss: 164.1362 - val_loss: 171.9700\nEpoch 31/50\n - 1s - loss: 161.6631 - val_loss: 171.2599\nEpoch 32/50\n - 1s - loss: 159.5203 - val_loss: 168.7480\nEpoch 33/50\n - 1s - loss: 157.4694 - val_loss: 167.6967\nEpoch 34/50\n - 1s - loss: 155.6967 - val_loss: 164.2042\nEpoch 35/50\n - 1s - loss: 153.8636 - val_loss: 163.0015\nEpoch 36/50\n - 1s - loss: 152.3123 - val_loss: 163.3418\nEpoch 37/50\n - 1s - loss: 151.1545 - val_loss: 162.0555\nEpoch 38/50\n - 1s - loss: 149.2387 - val_loss: 159.4936\nEpoch 39/50\n - 1s - loss: 148.3274 - val_loss: 158.9310\nEpoch 40/50\n - 1s - loss: 146.7670 - val_loss: 159.0560\nEpoch 41/50\n - 1s - loss: 145.4559 - val_loss: 157.5201\nEpoch 42/50\n - 1s - loss: 144.4684 - val_loss: 156.5852\nEpoch 43/50\n - 1s - loss: 143.2449 - val_loss: 156.2294\nEpoch 44/50\n - 1s - loss: 142.1812 - val_loss: 155.1924\nEpoch 45/50\n - 1s - loss: 141.0272 - val_loss: 154.8988\nEpoch 46/50\n - 1s - loss: 140.4070 - val_loss: 154.0065\nEpoch 47/50\n - 1s - loss: 139.3352 - val_loss: 152.4840\nEpoch 48/50\n - 1s - loss: 138.3126 - val_loss: 153.5624\nEpoch 49/50\n - 2s - loss: 137.4986 - val_loss: 152.6745\nEpoch 50/50\n - 1s - loss: 136.7102 - val_loss: 152.7378\n"
                },
                {
                    "data": {
                        "text/plain": "<keras.callbacks.History at 0x7fb6f0098780>"
                    },
                    "execution_count": 15,
                    "metadata": {},
                    "output_type": "execute_result"
                }
            ],
            "source": "# fit the model\nmodel.fit(predictors_norm, target, validation_split=0.3, epochs=50, verbose=2)"
        },
        {
            "cell_type": "markdown",
            "metadata": {},
            "source": "C. Increate the number of epochs (5 marks)\n\nRepeat Part B but use 100 epochs this time for training.\n\n### How does the mean of the mean squared errors compare to that from Step B?"
        },
        {
            "cell_type": "markdown",
            "metadata": {},
            "source": "It'smaller"
        },
        {
            "cell_type": "code",
            "execution_count": 16,
            "metadata": {},
            "outputs": [
                {
                    "name": "stdout",
                    "output_type": "stream",
                    "text": "Train on 721 samples, validate on 309 samples\nEpoch 1/100\n - 1s - loss: 135.4927 - val_loss: 151.6882\nEpoch 2/100\n - 1s - loss: 134.8238 - val_loss: 150.2588\nEpoch 3/100\n - 1s - loss: 133.8184 - val_loss: 151.1882\nEpoch 4/100\n - 1s - loss: 133.0631 - val_loss: 150.1581\nEpoch 5/100\n - 1s - loss: 132.1522 - val_loss: 150.2797\nEpoch 6/100\n - 1s - loss: 131.2598 - val_loss: 151.1688\nEpoch 7/100\n - 1s - loss: 130.5217 - val_loss: 150.8563\nEpoch 8/100\n - 1s - loss: 129.9703 - val_loss: 149.5671\nEpoch 9/100\n - 1s - loss: 128.5875 - val_loss: 150.2714\nEpoch 10/100\n - 1s - loss: 128.3450 - val_loss: 149.4545\nEpoch 11/100\n - 1s - loss: 127.2865 - val_loss: 148.8934\nEpoch 12/100\n - 1s - loss: 125.9867 - val_loss: 148.0806\nEpoch 13/100\n - 1s - loss: 124.9951 - val_loss: 148.9770\nEpoch 14/100\n - 1s - loss: 124.1583 - val_loss: 148.0600\nEpoch 15/100\n - 1s - loss: 123.0922 - val_loss: 148.7309\nEpoch 16/100\n - 1s - loss: 122.2805 - val_loss: 148.1935\nEpoch 17/100\n - 1s - loss: 121.4099 - val_loss: 147.6107\nEpoch 18/100\n - 1s - loss: 120.4818 - val_loss: 146.7782\nEpoch 19/100\n - 1s - loss: 119.4117 - val_loss: 147.6675\nEpoch 20/100\n - 1s - loss: 118.7267 - val_loss: 145.6182\nEpoch 21/100\n - 1s - loss: 117.9295 - val_loss: 146.1822\nEpoch 22/100\n - 1s - loss: 117.1884 - val_loss: 145.8760\nEpoch 23/100\n - 1s - loss: 116.6880 - val_loss: 146.9372\nEpoch 24/100\n - 1s - loss: 115.7560 - val_loss: 145.7509\nEpoch 25/100\n - 1s - loss: 115.0364 - val_loss: 146.1711\nEpoch 26/100\n - 1s - loss: 114.1709 - val_loss: 145.4505\nEpoch 27/100\n - 1s - loss: 113.3933 - val_loss: 145.7359\nEpoch 28/100\n - 1s - loss: 112.8068 - val_loss: 145.0464\nEpoch 29/100\n - 1s - loss: 112.4160 - val_loss: 144.7888\nEpoch 30/100\n - 1s - loss: 111.5184 - val_loss: 146.4135\nEpoch 31/100\n - 1s - loss: 110.7120 - val_loss: 144.3977\nEpoch 32/100\n - 1s - loss: 109.3094 - val_loss: 147.7639\nEpoch 33/100\n - 1s - loss: 108.2992 - val_loss: 148.0499\nEpoch 34/100\n - 1s - loss: 107.5804 - val_loss: 146.5350\nEpoch 35/100\n - 1s - loss: 106.7051 - val_loss: 147.4885\nEpoch 36/100\n - 1s - loss: 106.0608 - val_loss: 146.0306\nEpoch 37/100\n - 1s - loss: 105.4206 - val_loss: 148.6467\nEpoch 38/100\n - 1s - loss: 104.5754 - val_loss: 148.6653\nEpoch 39/100\n - 1s - loss: 103.6229 - val_loss: 150.3630\nEpoch 40/100\n - 1s - loss: 102.9212 - val_loss: 150.9887\nEpoch 41/100\n - 1s - loss: 102.0531 - val_loss: 149.3800\nEpoch 42/100\n - 1s - loss: 101.3329 - val_loss: 150.9738\nEpoch 43/100\n - 1s - loss: 100.7550 - val_loss: 147.3327\nEpoch 44/100\n - 1s - loss: 99.9918 - val_loss: 153.5584\nEpoch 45/100\n - 1s - loss: 99.4973 - val_loss: 148.5080\nEpoch 46/100\n - 1s - loss: 99.3408 - val_loss: 151.3851\nEpoch 47/100\n - 1s - loss: 98.1861 - val_loss: 150.8346\nEpoch 48/100\n - 1s - loss: 97.5253 - val_loss: 148.6993\nEpoch 49/100\n - 1s - loss: 97.0161 - val_loss: 149.0546\nEpoch 50/100\n - 1s - loss: 96.2976 - val_loss: 152.2590\nEpoch 51/100\n - 1s - loss: 95.8331 - val_loss: 151.6729\nEpoch 52/100\n - 1s - loss: 95.1251 - val_loss: 149.1288\nEpoch 53/100\n - 1s - loss: 94.9205 - val_loss: 151.2993\nEpoch 54/100\n - 1s - loss: 94.2343 - val_loss: 149.5832\nEpoch 55/100\n - 1s - loss: 93.8398 - val_loss: 150.6064\nEpoch 56/100\n - 1s - loss: 93.1084 - val_loss: 145.5646\nEpoch 57/100\n - 1s - loss: 92.4223 - val_loss: 149.7032\nEpoch 58/100\n - 1s - loss: 91.7115 - val_loss: 146.5275\nEpoch 59/100\n - 1s - loss: 91.0602 - val_loss: 146.1151\nEpoch 60/100\n - 1s - loss: 90.8236 - val_loss: 145.6327\nEpoch 61/100\n - 1s - loss: 90.1002 - val_loss: 145.1091\nEpoch 62/100\n - 1s - loss: 89.6989 - val_loss: 142.9474\nEpoch 63/100\n - 1s - loss: 89.0223 - val_loss: 144.3132\nEpoch 64/100\n - 1s - loss: 88.7127 - val_loss: 148.1447\nEpoch 65/100\n - 1s - loss: 88.5887 - val_loss: 149.0134\nEpoch 66/100\n - 1s - loss: 87.8828 - val_loss: 143.2620\nEpoch 67/100\n - 1s - loss: 87.8415 - val_loss: 141.8933\nEpoch 68/100\n - 1s - loss: 86.8012 - val_loss: 142.6615\nEpoch 69/100\n - 1s - loss: 86.3779 - val_loss: 143.4377\nEpoch 70/100\n - 1s - loss: 86.1769 - val_loss: 138.6411\nEpoch 71/100\n - 1s - loss: 85.3515 - val_loss: 140.3480\nEpoch 72/100\n - 1s - loss: 85.1172 - val_loss: 138.8560\nEpoch 73/100\n - 1s - loss: 84.5973 - val_loss: 141.8613\nEpoch 74/100\n - 1s - loss: 84.2025 - val_loss: 141.1933\nEpoch 75/100\n - 1s - loss: 83.8650 - val_loss: 137.4808\nEpoch 76/100\n - 1s - loss: 83.1865 - val_loss: 136.8837\nEpoch 77/100\n - 1s - loss: 83.0179 - val_loss: 137.2619\nEpoch 78/100\n - 1s - loss: 82.1435 - val_loss: 135.7421\nEpoch 79/100\n - 1s - loss: 81.9727 - val_loss: 136.1910\nEpoch 80/100\n - 1s - loss: 81.4931 - val_loss: 132.6462\nEpoch 81/100\n - 1s - loss: 81.0192 - val_loss: 137.2416\nEpoch 82/100\n - 1s - loss: 80.7492 - val_loss: 133.4793\nEpoch 83/100\n - 1s - loss: 80.1251 - val_loss: 133.6756\nEpoch 84/100\n - 1s - loss: 80.3952 - val_loss: 139.3967\nEpoch 85/100\n - 1s - loss: 79.8271 - val_loss: 132.9557\nEpoch 86/100\n - 1s - loss: 79.2407 - val_loss: 129.2825\nEpoch 87/100\n - 1s - loss: 78.8092 - val_loss: 136.0723\nEpoch 88/100\n - 1s - loss: 78.2005 - val_loss: 127.8182\nEpoch 89/100\n - 1s - loss: 77.8535 - val_loss: 132.0352\nEpoch 90/100\n - 1s - loss: 77.1308 - val_loss: 126.4718\nEpoch 91/100\n - 1s - loss: 76.7019 - val_loss: 128.8037\nEpoch 92/100\n - 1s - loss: 76.0917 - val_loss: 128.0422\nEpoch 93/100\n - 1s - loss: 75.6979 - val_loss: 127.5764\nEpoch 94/100\n - 1s - loss: 75.1680 - val_loss: 127.7423\nEpoch 95/100\n - 1s - loss: 74.7506 - val_loss: 126.5785\nEpoch 96/100\n - 1s - loss: 74.5150 - val_loss: 123.8388\nEpoch 97/100\n - 1s - loss: 74.4538 - val_loss: 128.1119\nEpoch 98/100\n - 1s - loss: 73.6894 - val_loss: 124.8125\nEpoch 99/100\n - 1s - loss: 73.4698 - val_loss: 127.9663\nEpoch 100/100\n - 1s - loss: 73.3468 - val_loss: 124.4924\n"
                },
                {
                    "data": {
                        "text/plain": "<keras.callbacks.History at 0x7fb6f0098be0>"
                    },
                    "execution_count": 16,
                    "metadata": {},
                    "output_type": "execute_result"
                }
            ],
            "source": "# fit the model\nmodel.fit(predictors_norm, target, validation_split=0.3, epochs=100, verbose=2)"
        },
        {
            "cell_type": "code",
            "execution_count": null,
            "metadata": {},
            "outputs": [],
            "source": ""
        },
        {
            "cell_type": "code",
            "execution_count": null,
            "metadata": {},
            "outputs": [],
            "source": ""
        }
    ],
    "metadata": {
        "kernelspec": {
            "display_name": "Python 3.6",
            "language": "python",
            "name": "python3"
        },
        "language_info": {
            "codemirror_mode": {
                "name": "ipython",
                "version": 3
            },
            "file_extension": ".py",
            "mimetype": "text/x-python",
            "name": "python",
            "nbconvert_exporter": "python",
            "pygments_lexer": "ipython3",
            "version": "3.6.8"
        }
    },
    "nbformat": 4,
    "nbformat_minor": 1
}